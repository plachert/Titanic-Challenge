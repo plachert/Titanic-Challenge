{
 "cells": [
  {
   "cell_type": "code",
   "execution_count": null,
   "metadata": {},
   "outputs": [],
   "source": [
    "import pandas as pd\n",
    "import numpy as np\n",
    "import sklearn\n",
    "from sklearn.base import TransformerMixin\n",
    "from sklearn_pandas import DataFrameMapper, cross_val_score\n",
    "import seaborn as sns\n",
    "import matplotlib\n",
    "from sklearn import linear_model"
   ]
  },
  {
   "cell_type": "code",
   "execution_count": null,
   "metadata": {},
   "outputs": [],
   "source": [
    "train = pd.read_csv('train.csv').drop('PassengerId', axis=1)\n",
    "test = pd.read_csv('test.csv').drop('PassengerId', axis=1)\n",
    "alldata = pd.concat([train.drop('Survived', axis=1),test])"
   ]
  },
  {
   "cell_type": "markdown",
   "metadata": {},
   "source": [
    "# Exploring Data"
   ]
  },
  {
   "cell_type": "code",
   "execution_count": null,
   "metadata": {},
   "outputs": [],
   "source": [
    "train.head()"
   ]
  },
  {
   "cell_type": "code",
   "execution_count": null,
   "metadata": {},
   "outputs": [],
   "source": [
    "alldata.info()"
   ]
  },
  {
   "cell_type": "markdown",
   "metadata": {},
   "source": [
    "**PassengerId** - irrelevant in terms of features (already droped)<br>\n",
    "**Survived** - \"1\" if survived, \"0\" otherwise <br>\n",
    "**Pclass** - one of three classes (1,2,3) <br>\n",
    "**Name** - name of a passenger including their titles<br>\n",
    "**Sex** - male or female<br>\n",
    "**Age** - age in years <br>\n",
    "**SibSp** - number of passenger's siblings and spauses travelling with them<br>\n",
    "**Parch** - number of passenger's parents and children travelling with them<br>\n",
    "**Ticket** - ticket number<br>\n",
    "**Fare** - fare<br>\n",
    "**Cabin** - letters encode deck number and numbers encode cabin number <br>\n",
    "\n",
    "**Missing Data:** <br>\n",
    "'Age': 263 missing samples<br>\n",
    "'Cabin': 1014 missing samples (almost 80% of data missing!)<br>\n",
    "'Emarked': only 2 missing samples\n",
    "\n",
    "**Intuition**<br>\n",
    "Sex, Pclass, Fare and Age may play an important role in classification.<br>\n",
    "Cabin, and even more the deck encoded in this feature may be a very important factor. There are planty of samples missing though.<br>\n",
    "Noble title which can be extracted from Name can be a good feature.\n"
   ]
  },
  {
   "cell_type": "code",
   "execution_count": null,
   "metadata": {},
   "outputs": [],
   "source": [
    "train.corr(method='spearman')"
   ]
  },
  {
   "cell_type": "markdown",
   "metadata": {},
   "source": [
    "## Title Encoding "
   ]
  },
  {
   "cell_type": "markdown",
   "metadata": {},
   "source": [
    "Name is determied for each sample. We can use it to extract all the noble titles  "
   ]
  },
  {
   "cell_type": "code",
   "execution_count": null,
   "metadata": {},
   "outputs": [],
   "source": [
    "set([i.split(', ')[1].split('.')[0] for i in alldata['Name']])"
   ]
  },
  {
   "cell_type": "code",
   "execution_count": null,
   "metadata": {},
   "outputs": [],
   "source": [
    "class TitleEncoder(TransformerMixin):\n",
    "    def fit(self, X, y=None):\n",
    "        return self\n",
    "    def transform(self, X):\n",
    "        transformed = X.copy()\n",
    "        for i in range(len(X)):\n",
    "            transformed[i] = X[i].split(',')[1].split('.')[0]\n",
    "        return transformed"
   ]
  },
  {
   "cell_type": "markdown",
   "metadata": {},
   "source": [
    "## Ticket Encoding"
   ]
  },
  {
   "cell_type": "code",
   "execution_count": null,
   "metadata": {},
   "outputs": [],
   "source": [
    "len(train['Ticket'].unique())"
   ]
  },
  {
   "cell_type": "code",
   "execution_count": null,
   "metadata": {},
   "outputs": [],
   "source": [
    "mapper = DataFrameMapper([\n",
    "    #features\n",
    "    ('Pclass', sklearn.preprocessing.LabelBinarizer()),\n",
    "    ('Sex', sklearn.preprocessing.LabelBinarizer()),\n",
    "    ('Name', [TitleEncoder(),sklearn.preprocessing.LabelBinarizer()],{'alias': 'title'}),\n",
    "    ('Fare', None),\n",
    "    ('SibSp', None),\n",
    "    ('Parch', None),\n",
    "    #result\n",
    "    ('Survived', None)\n",
    "], input_df=True, df_out=True)"
   ]
  },
  {
   "cell_type": "code",
   "execution_count": null,
   "metadata": {},
   "outputs": [],
   "source": [
    "data = mapper.fit_transform(train.copy())"
   ]
  },
  {
   "cell_type": "code",
   "execution_count": null,
   "metadata": {},
   "outputs": [],
   "source": [
    "clf = linear_model.LogisticRegression(C=1)"
   ]
  },
  {
   "cell_type": "code",
   "execution_count": null,
   "metadata": {},
   "outputs": [],
   "source": [
    "X_train = data.drop(['Survived'], axis=1)"
   ]
  },
  {
   "cell_type": "code",
   "execution_count": null,
   "metadata": {},
   "outputs": [],
   "source": [
    "Y_train = data['Survived']"
   ]
  },
  {
   "cell_type": "code",
   "execution_count": null,
   "metadata": {},
   "outputs": [],
   "source": [
    "cross_val_score(clf, X_train, Y_train, cv=10)"
   ]
  },
  {
   "cell_type": "code",
   "execution_count": null,
   "metadata": {},
   "outputs": [],
   "source": []
  },
  {
   "cell_type": "code",
   "execution_count": null,
   "metadata": {},
   "outputs": [],
   "source": []
  }
 ],
 "metadata": {
  "kernelspec": {
   "display_name": "Python 3",
   "language": "python",
   "name": "python3"
  },
  "language_info": {
   "codemirror_mode": {
    "name": "ipython",
    "version": 3
   },
   "file_extension": ".py",
   "mimetype": "text/x-python",
   "name": "python",
   "nbconvert_exporter": "python",
   "pygments_lexer": "ipython3",
   "version": "3.7.0"
  }
 },
 "nbformat": 4,
 "nbformat_minor": 2
}
